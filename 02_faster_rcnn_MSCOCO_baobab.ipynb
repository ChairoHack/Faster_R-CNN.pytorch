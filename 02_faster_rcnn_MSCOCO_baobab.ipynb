{
 "cells": [
  {
   "cell_type": "markdown",
   "metadata": {
    "id": "view-in-github"
   },
   "source": [
    "<a href=\"https://colab.research.google.com/github/yukinaga/object_detection/blob/main/section_2/01_faster_rcnn.ipynb\" target=\"_parent\"><img src=\"https://colab.research.google.com/assets/colab-badge.svg\" alt=\"Open In Colab\"/></a>"
   ]
  },
  {
   "cell_type": "markdown",
   "metadata": {
    "id": "2D34JX9Xh7qg"
   },
   "source": [
    "### annotationデータ変換"
   ]
  },
  {
   "cell_type": "code",
   "execution_count": 1,
   "metadata": {
    "id": "-Hut_f1YVD5S"
   },
   "outputs": [],
   "source": [
    "import glob\n",
    "import os\n",
    "import json\n",
    "import pandas as pd\n",
    "import shutil\n",
    "import json\n",
    "import numpy as np\n",
    "from tqdm import tqdm\n",
    "from PIL import Image"
   ]
  },
  {
   "cell_type": "code",
   "execution_count": 2,
   "metadata": {
    "id": "4n0gu7ZwT6Lv"
   },
   "outputs": [],
   "source": [
    "# jsonファイルの読み込み\n",
    "base_dir = 'datasets/COCOdata/COCOdata'\n",
    "json_dicts = {}\n",
    "data_kinds = ['train', 'test']\n",
    "for data_kind in data_kinds:\n",
    "    with open(f'{base_dir}/{data_kind}/labels_baobab.json', 'r') as f:\n",
    "        json_dicts[data_kind] = json.load(f)"
   ]
  },
  {
   "cell_type": "code",
   "execution_count": 3,
   "metadata": {},
   "outputs": [
    {
     "name": "stderr",
     "output_type": "stream",
     "text": [
      "100%|███████████████████████████████████████████████████████████████████████████| 74963/74963 [04:51<00:00, 257.48it/s]\n",
      "100%|█████████████████████████████████████████████████████████████████████████████| 3182/3182 [00:13<00:00, 239.40it/s]\n"
     ]
    }
   ],
   "source": [
    "# imagesキー内の'id'と'file_name'と'width'と'height'を紐づけ\n",
    "df_dict = {}\n",
    "for data_kind, json_dict in json_dicts.items():\n",
    "    images = json_dict['images']\n",
    "    images_id = []\n",
    "    for image in tqdm(images):\n",
    "        image_id = {}\n",
    "        image_id['image_id'] = image['id']\n",
    "        image_id['file_name'] = image['file_name']\n",
    "        img = Image.open(f'{base_dir}/{data_kind}/data/{image[\"file_name\"]}')\n",
    "        image_id['width'] = img.width\n",
    "        image_id['height'] = img.height\n",
    "        images_id.append(image_id)\n",
    "    df_dict[data_kind] = pd.DataFrame(images_id)"
   ]
  },
  {
   "cell_type": "code",
   "execution_count": 6,
   "metadata": {},
   "outputs": [],
   "source": [
    "# annotationsキー内の'id'と'bbox'と'category_id'を紐づけ\n",
    "for data_kind,json_dict in json_dicts.items():\n",
    "    annotations = json_dict['annotations']\n",
    "    annotations_id = []\n",
    "    for annotation in annotations:\n",
    "        annotation_id = {}\n",
    "        annotation_id['image_id'] = annotation['image_id']\n",
    "        annotation_id['bbox'] = annotation['bbox']\n",
    "        annotation_id['category_id'] = annotation['category_id']\n",
    "        annotations_id.append(annotation_id)\n",
    "    df_annotations_id = pd.DataFrame(annotations_id)\n",
    "    df_dict[data_kind] = pd.merge(df_dict[data_kind], df_annotations_id, on='image_id')"
   ]
  },
  {
   "cell_type": "code",
   "execution_count": 8,
   "metadata": {},
   "outputs": [],
   "source": [
    "# categoriesキー内の'id'と'name'を紐づけ\n",
    "for data_kind,json_dict in json_dicts.items():\n",
    "    categories = json_dict['categories']\n",
    "    categories_id = []\n",
    "    for category in categories:\n",
    "        category_id = {}\n",
    "        category_id['category_id'] = category['id']\n",
    "        category_id['name'] = category['name']\n",
    "        categories_id.append(category_id)\n",
    "    df_categories_id = pd.DataFrame(categories_id)\n",
    "    df_dict[data_kind] = pd.merge(df_dict[data_kind], df_categories_id, on='category_id')"
   ]
  },
  {
   "cell_type": "code",
   "execution_count": 10,
   "metadata": {},
   "outputs": [
    {
     "data": {
      "text/html": [
       "<div>\n",
       "<style scoped>\n",
       "    .dataframe tbody tr th:only-of-type {\n",
       "        vertical-align: middle;\n",
       "    }\n",
       "\n",
       "    .dataframe tbody tr th {\n",
       "        vertical-align: top;\n",
       "    }\n",
       "\n",
       "    .dataframe thead th {\n",
       "        text-align: right;\n",
       "    }\n",
       "</style>\n",
       "<table border=\"1\" class=\"dataframe\">\n",
       "  <thead>\n",
       "    <tr style=\"text-align: right;\">\n",
       "      <th></th>\n",
       "      <th>category_id</th>\n",
       "      <th>name</th>\n",
       "    </tr>\n",
       "  </thead>\n",
       "  <tbody>\n",
       "    <tr>\n",
       "      <th>1</th>\n",
       "      <td>1</td>\n",
       "      <td>person</td>\n",
       "    </tr>\n",
       "    <tr>\n",
       "      <th>2</th>\n",
       "      <td>3</td>\n",
       "      <td>car</td>\n",
       "    </tr>\n",
       "    <tr>\n",
       "      <th>3</th>\n",
       "      <td>10</td>\n",
       "      <td>traffic light</td>\n",
       "    </tr>\n",
       "    <tr>\n",
       "      <th>4</th>\n",
       "      <td>47</td>\n",
       "      <td>cup</td>\n",
       "    </tr>\n",
       "    <tr>\n",
       "      <th>5</th>\n",
       "      <td>62</td>\n",
       "      <td>chair</td>\n",
       "    </tr>\n",
       "  </tbody>\n",
       "</table>\n",
       "</div>"
      ],
      "text/plain": [
       "   category_id           name\n",
       "1            1         person\n",
       "2            3            car\n",
       "3           10  traffic light\n",
       "4           47            cup\n",
       "5           62          chair"
      ]
     },
     "execution_count": 10,
     "metadata": {},
     "output_type": "execute_result"
    }
   ],
   "source": [
    "# カテゴリ番号と名前を取り出したデータフレーム\n",
    "df_unique_category = df_dict['test'][['category_id', 'name']].drop_duplicates()\n",
    "df_unique_category = df_unique_category.sort_values('category_id')\n",
    "df_unique_category = df_unique_category.reset_index(drop=True)\n",
    "df_unique_category.index = np.arange(1, len(df_unique_category)+1)\n",
    "df_unique_category"
   ]
  },
  {
   "cell_type": "code",
   "execution_count": null,
   "metadata": {},
   "outputs": [],
   "source": [
    "fix_label = {\n",
    "    \"building\": \"person\",\n",
    "    \"car\": \"car\",\n",
    "    \"person\": \"trafficlight\",\n",
    "    \"flower\": \"cup\",\n",
    "    \"dog\": \"chair\"\n",
    "}"
   ]
  },
  {
   "cell_type": "code",
   "execution_count": 12,
   "metadata": {},
   "outputs": [
    {
     "data": {
      "text/plain": [
       "3"
      ]
     },
     "execution_count": 12,
     "metadata": {},
     "output_type": "execute_result"
    }
   ],
   "source": [
    "# もともとのカテゴリIDとラベルIDの変換\n",
    "category_id2label_id = {}\n",
    "for label_id, row in df_unique_category.iterrows():\n",
    "    category_id2label_id[row['category_id']] = label_id\n",
    "category_id2label_id[10]"
   ]
  },
  {
   "cell_type": "code",
   "execution_count": 13,
   "metadata": {},
   "outputs": [
    {
     "data": {
      "text/plain": [
       "'trafficlight'"
      ]
     },
     "execution_count": 13,
     "metadata": {},
     "output_type": "execute_result"
    }
   ],
   "source": [
    "# ラベルIDからNameを取得\n",
    "label_id2name = {}\n",
    "for label_id, row in df_label.iterrows():\n",
    "    label_id2name[label_id] = row['name']\n",
    "label_id2name[3]"
   ]
  },
  {
   "cell_type": "code",
   "execution_count": 14,
   "metadata": {},
   "outputs": [],
   "source": [
    "columns = df_dict['test'].columns.tolist()"
   ]
  },
  {
   "cell_type": "code",
   "execution_count": null,
   "metadata": {},
   "outputs": [],
   "source": [
    "# train, valでデータフレームを分ける\n",
    "# かなり時間かかるから注意！\n",
    "train_txt = f'{base_dir}/train/train.txt'\n",
    "val_txt = f'{base_dir}/train/val.txt'\n",
    "with open(train_txt, 'r') as f:\n",
    "    train_list = f.readlines()\n",
    "    train_list = [train_name.split('/')[-1].replace('\\n', '') for train_name in train_list]\n",
    "with open(val_txt, 'r') as f:\n",
    "    val_list = f.readlines()\n",
    "    val_list = [val_name.split('/')[-1].replace('\\n', '') for val_name in val_list]\n",
    "\n",
    "df_train = pd.DataFrame(columns=columns)\n",
    "for train_name in tqdm(train_list):\n",
    "    _df = df_dict['train'][df_dict['train']['file_name'] == train_name]\n",
    "    df_train = pd.concat([df_train, _df],ignore_index=True)\n",
    "df_train"
   ]
  },
  {
   "cell_type": "code",
   "execution_count": null,
   "metadata": {},
   "outputs": [],
   "source": [
    "df_val = pd.DataFrame(columns=columns)\n",
    "for val_name in tqdm(val_list):\n",
    "    _df = df_dict['train'][df_dict['train']['file_name'] == val_name]\n",
    "    df_val = pd.concat([df_val, _df],ignore_index=True)\n",
    "df_val"
   ]
  },
  {
   "cell_type": "code",
   "execution_count": null,
   "metadata": {},
   "outputs": [],
   "source": [
    "df_dict['train'] = df_train\n",
    "df_dict['val'] = df_val"
   ]
  },
  {
   "cell_type": "markdown",
   "metadata": {
    "id": "B9RZNL5kY93L"
   },
   "source": [
    "### カスタムデータセットを作成"
   ]
  },
  {
   "cell_type": "code",
   "execution_count": null,
   "metadata": {
    "id": "mgfua9EHGiBA"
   },
   "outputs": [],
   "source": [
    "import torch\n",
    "from torch.utils.data import DataLoader\n",
    "\n",
    "import torchvision\n",
    "import torchvision.transforms as transforms\n",
    "from torchvision.utils import draw_bounding_boxes\n",
    "from torchvision.models.detection.faster_rcnn import FastRCNNPredictor\n",
    "\n",
    "from PIL import Image\n",
    "import numpy as np\n",
    "import matplotlib.pyplot as plt"
   ]
  },
  {
   "cell_type": "code",
   "execution_count": null,
   "metadata": {
    "id": "wOgutqMOZaTQ"
   },
   "outputs": [],
   "source": [
    "# カスタムデータセットに与えるデータを作成するクラス\n",
    "class MSCOCODataset(torch.utils.data.Dataset):\n",
    "    \n",
    "    def __init__(self, df, image_dir, transform=None):\n",
    "        super().__init__()\n",
    "        self.image_ids = df['file_name'].unique()\n",
    "        self.df = df\n",
    "        self.image_dir = image_dir\n",
    "        self.transform = transform\n",
    "        \n",
    "    def __getitem__(self, index):\n",
    "        if self.transform is None:\n",
    "            self.transform = transforms.Compose([\n",
    "                transforms.ToTensor()\n",
    "            ])\n",
    "\n",
    "        # 入力画像の読み込み\n",
    "        image_id = self.image_ids[index]\n",
    "        image = Image.open(f'{self.image_dir}/{image_id}')\n",
    "        image = self.transform(image)\n",
    "        \n",
    "        # アノテーションデータの読み込み\n",
    "        df_unique_id = self.df[self.df['file_name'] == image_id]\n",
    "        width = df_unique_id['width'].unique()[0]\n",
    "        height = df_unique_id['height'].unique()[0]\n",
    "        boxes_arr = np.array([boxes for boxes in df_unique_id['bbox'].values])\n",
    "        boxes_arr[:, 0] = boxes_arr[:, 0]\n",
    "        boxes_arr[:, 1] = boxes_arr[:, 1]\n",
    "        boxes_arr[:, 2] = boxes_arr[:, 0] + boxes_arr[:, 2]\n",
    "        boxes_arr[:, 3] = boxes_arr[:, 1] + boxes_arr[:, 3]\n",
    "        boxes = torch.tensor(boxes_arr, dtype=torch.int64)\n",
    "        for box in boxes:\n",
    "            box[2] = box[2] + 1 if (box[2] - box[0]) == 0 else box[2]\n",
    "            box[3] = box[3] + 1 if (box[3] - box[1]) == 0 else box[3]\n",
    "        labels = [category_id2label_id[cat_id] for cat_id in df_unique_id['category_id'].values]\n",
    "        labels = np.array(labels)\n",
    "        labels = torch.tensor(labels, dtype=torch.int64)\n",
    "        target = {}\n",
    "        target['boxes'] = boxes\n",
    "        target['labels']= labels\n",
    "        \n",
    "        return image, target\n",
    "    \n",
    "    def __len__(self):\n",
    "        return self.image_ids.shape[0]"
   ]
  },
  {
   "cell_type": "markdown",
   "metadata": {
    "id": "RGMFWBXzjyhx"
   },
   "source": [
    "### データセットの読み込み"
   ]
  },
  {
   "cell_type": "code",
   "execution_count": null,
   "metadata": {
    "id": "_IBIwqzyGUGI"
   },
   "outputs": [],
   "source": [
    "dataset_train = MSCOCODataset(df_dict['train'], image_dir=f'{base_dir}/train/data')\n",
    "dataset_val = MSCOCODataset(df_dict['val'], image_dir=f'{base_dir}/train/data')\n",
    "dataset_test = MSCOCODataset(df_dict['test'], image_dir=f'{base_dir}/test/data')"
   ]
  },
  {
   "cell_type": "markdown",
   "metadata": {
    "id": "i2BYtIG6km6t"
   },
   "source": [
    "### DataLoaderの設定"
   ]
  },
  {
   "cell_type": "code",
   "execution_count": null,
   "metadata": {
    "id": "IDzquvf4OvCW"
   },
   "outputs": [],
   "source": [
    "data_loader_train =  DataLoader(dataset_train, batch_size=1, shuffle=True)\n",
    "data_loader_val =  DataLoader(dataset_val, batch_size=1, shuffle=False)\n",
    "data_loader_test =  DataLoader(dataset_test, batch_size=1, shuffle=False)"
   ]
  },
  {
   "cell_type": "markdown",
   "metadata": {
    "id": "YUEoolAmlENX"
   },
   "source": [
    "### ターゲットの表示 "
   ]
  },
  {
   "cell_type": "code",
   "execution_count": null,
   "metadata": {
    "id": "3sPXJE2fFpwd"
   },
   "outputs": [],
   "source": [
    "def show_boxes(image, boxes, names):\n",
    "    drawn_boxes = draw_bounding_boxes(image, boxes, labels=names)\n",
    "\n",
    "    plt.figure(figsize = (16,16))\n",
    "    plt.imshow(np.transpose(drawn_boxes, (1, 2, 0)))  # チャンネルを一番後ろに\n",
    "    plt.tick_params(labelbottom=False, labelleft=False, bottom=False, left=False)  # ラベルとメモリを非表示に\n",
    "    plt.show()"
   ]
  },
  {
   "cell_type": "code",
   "execution_count": null,
   "metadata": {
    "id": "FmNLpfj80nSC"
   },
   "outputs": [],
   "source": [
    "dataiter = iter(data_loader_train)  # イテレータ"
   ]
  },
  {
   "cell_type": "code",
   "execution_count": null,
   "metadata": {},
   "outputs": [],
   "source": [
    "len(data_loader_test)"
   ]
  },
  {
   "cell_type": "code",
   "execution_count": null,
   "metadata": {
    "colab": {
     "base_uri": "https://localhost:8080/",
     "height": 630
    },
    "executionInfo": {
     "elapsed": 4239,
     "status": "ok",
     "timestamp": 1645791968185,
     "user": {
      "displayName": "ちゃいろハック",
      "photoUrl": "https://lh3.googleusercontent.com/a-/AOh14Gg6FK2rYCL6_4iK1K4LEzhavXtZh3g_psm9zdch=s64",
      "userId": "16475672124369431032"
     },
     "user_tz": -540
    },
    "id": "T1DgPPCeTv8g",
    "outputId": "1e4e37df-c65d-47dc-dc51-2704f2f16c49"
   },
   "outputs": [],
   "source": [
    "#dataiter = iter(data_loader_test)  # イテレータ\n",
    "image, target = dataiter.next()  # バッチを取り出す\n",
    "print(target)\n",
    "\n",
    "image = image[0]\n",
    "image = (image*255).to(torch.uint8)  # draw_bounding_boxes関数の入力は0-255\n",
    "\n",
    "boxes = target[\"boxes\"][0]\n",
    "\n",
    "labels = target[\"labels\"][0]\n",
    "names = [label_id2name[label.item()] for label in labels]\n",
    "\n",
    "show_boxes(image, boxes, names)"
   ]
  },
  {
   "cell_type": "markdown",
   "metadata": {
    "id": "I2sQVsxKD0F_"
   },
   "source": [
    "### モデルの構築"
   ]
  },
  {
   "cell_type": "code",
   "execution_count": null,
   "metadata": {
    "colab": {
     "base_uri": "https://localhost:8080/"
    },
    "executionInfo": {
     "elapsed": 996,
     "status": "ok",
     "timestamp": 1645798257813,
     "user": {
      "displayName": "ちゃいろハック",
      "photoUrl": "https://lh3.googleusercontent.com/a-/AOh14Gg6FK2rYCL6_4iK1K4LEzhavXtZh3g_psm9zdch=s64",
      "userId": "16475672124369431032"
     },
     "user_tz": -540
    },
    "id": "CeBmxDtBD5in",
    "outputId": "d11e2e38-3103-4fb3-d1a7-3cde077a4ab1"
   },
   "outputs": [],
   "source": [
    "model = torchvision.models.detection.fasterrcnn_resnet50_fpn(pretrained=True)\n",
    "num_classes=len(df_unique_category)+1  # 背景も含めて分類するため1を加える\n",
    "in_features = model.roi_heads.box_predictor.cls_score.in_features\n",
    "model.roi_heads.box_predictor = FastRCNNPredictor(in_features, num_classes)\n",
    "model.cuda()  # GPU対応"
   ]
  },
  {
   "cell_type": "markdown",
   "metadata": {
    "id": "zlg2kyRIlru5"
   },
   "source": [
    "### 学習"
   ]
  },
  {
   "cell_type": "code",
   "execution_count": null,
   "metadata": {
    "colab": {
     "base_uri": "https://localhost:8080/",
     "height": 500
    },
    "executionInfo": {
     "elapsed": 242540,
     "status": "error",
     "timestamp": 1645798503997,
     "user": {
      "displayName": "ちゃいろハック",
      "photoUrl": "https://lh3.googleusercontent.com/a-/AOh14Gg6FK2rYCL6_4iK1K4LEzhavXtZh3g_psm9zdch=s64",
      "userId": "16475672124369431032"
     },
     "user_tz": -540
    },
    "id": "g1ZfJVNn7nKt",
    "outputId": "dd3cde37-b687-4d8c-8bbe-79c3e8f8d74a"
   },
   "outputs": [],
   "source": [
    "# モデルの保存場所の設定\n",
    "data_path = 'save_model'\n",
    "# ディレクトリを確認して作成\n",
    "_dir_path = f'{data_path}'\n",
    "if not os.path.exists(_dir_path):\n",
    "    os.mkdir(_dir_path)\n",
    "epoch_loss_path = f'{data_path}/losses_every_epoch.txt'\n",
    "iter_loss_path = f'{data_path}/losses_every_iteration.txt'"
   ]
  },
  {
   "cell_type": "code",
   "execution_count": null,
   "metadata": {
    "colab": {
     "base_uri": "https://localhost:8080/",
     "height": 500
    },
    "executionInfo": {
     "elapsed": 242540,
     "status": "error",
     "timestamp": 1645798503997,
     "user": {
      "displayName": "ちゃいろハック",
      "photoUrl": "https://lh3.googleusercontent.com/a-/AOh14Gg6FK2rYCL6_4iK1K4LEzhavXtZh3g_psm9zdch=s64",
      "userId": "16475672124369431032"
     },
     "user_tz": -540
    },
    "id": "g1ZfJVNn7nKt",
    "outputId": "dd3cde37-b687-4d8c-8bbe-79c3e8f8d74a"
   },
   "outputs": [],
   "source": [
    "# 最適化アルゴリズム\n",
    "params = [p for p in model.parameters() if p.requires_grad]\n",
    "optimizer = torch.optim.SGD(params, lr=0.001, momentum=0.9, weight_decay=0.0005)\n",
    "\n",
    "epoch_loss_list = []\n",
    "epoch_val_loss_list = []\n",
    "iter_loss_list = []\n",
    "val_loss_list = []\n",
    "model.train()  # 訓練モード\n",
    "epochs = 10\n",
    "iteration = 0\n",
    "for epoch in range(epochs):\n",
    "    # train\n",
    "    epoch_losses = []\n",
    "    iter_losses = []\n",
    "    for i, (image, target) in enumerate(data_loader_train):\n",
    "        image = [img.cuda() for img in image]  # GPU対応\n",
    "\n",
    "        boxes = target[\"boxes\"][0].cuda()\n",
    "        labels = target[\"labels\"][0].cuda()\n",
    "        target = [{\"boxes\":boxes, \"labels\":labels}]  # ターゲットは辞書を要素に持つリスト\n",
    "\n",
    "        loss_dic = model(image, target)\n",
    "        loss = sum(loss for loss in loss_dic.values())  # 誤差の合計を計算\n",
    "\n",
    "        optimizer.zero_grad()\n",
    "        loss.backward()\n",
    "        optimizer.step()\n",
    "\n",
    "        epoch_losses.append(loss.item())\n",
    "        iter_losses.append(loss.item())\n",
    "\n",
    "        if (i+1)%100 == 0:  # 100回ごとに経過を表示\n",
    "            print(f'Train epoch: {epoch+1} iteration: {i+1}, loss: {loss.item()}')\n",
    "    \n",
    "        # 1000iterationごとにmodelを保存\n",
    "        if (i+1)%1000 == 0:\n",
    "            model_path = f'{data_path}/save_model/model_iteration{i:06}.pth'\n",
    "            torch.save(model.state_dict(), model_path)\n",
    "            iter_loss_list.append(np.mean(iter_losses))\n",
    "            iter_losses = [] \n",
    "            with open(iter_loss_path, 'w') as f:\n",
    "                for i, loss in enumerate(iter_loss_list):\n",
    "                    f.write(f'{(i+1)*1000} train_loss: {loss}\\n')\n",
    "            \n",
    "    # 1epoch終わったらmodelを保存\n",
    "    model_path = f'{data_path}/save_model/model_epoch{epoch:02}.pth'\n",
    "    torch.save(model.state_dict(), model_path)\n",
    "    epoch_loss_list.append(np.mean(epoch_losses))\n",
    "\n",
    "    # validation\n",
    "    val_losses =  []\n",
    "    for i, (val_image, val_target) in enumerate(data_loader_val):\n",
    "        val_image = [img.cuda() for img in val_image]  # GPU対応\n",
    "\n",
    "        val_boxes = val_target[\"boxes\"][0].cuda()\n",
    "        val_labels = val_target[\"labels\"][0].cuda()\n",
    "        val_target = [{\"boxes\":val_boxes, \"labels\":val_labels}]  # ターゲットは辞書を要素に持つリスト\n",
    "\n",
    "        val_loss_dic = model(val_image, val_target)\n",
    "        val_loss = sum(val_loss for val_loss in val_loss_dic.values()) # 誤差の合計を計算\n",
    "\n",
    "        val_losses.append(val_loss.item())\n",
    "\n",
    "        if (i+1)%100 == 0:  # 100回ごとに経過を表示\n",
    "            print(\"Val epoch:\", epoch,  \"iteration:\", i,  \"loss:\", val_loss.item())\n",
    "    \n",
    "    val_loss_list.append(np.mean(val_losses))\n",
    "\n",
    "    with open(epoch_loss_path, 'w') as f:\n",
    "        for i, loss in enumerate(epoch_loss_list):\n",
    "            f.write(f'{i+1} train_loss: {loss} val_loss: {val_loss_list[i]}\\n')\n",
    "   "
   ]
  },
  {
   "cell_type": "markdown",
   "metadata": {
    "id": "CWbmJlezyqIU"
   },
   "source": [
    "### 検出"
   ]
  },
  {
   "cell_type": "code",
   "execution_count": null,
   "metadata": {
    "id": "PjJrJEhE4Qxs"
   },
   "outputs": [],
   "source": [
    "load_model = torchvision.models.detection.fasterrcnn_resnet50_fpn(pretrained=True)\n",
    "num_classes=len(df_unique_category)+1  # 背景も含めて分類するため1を加える\n",
    "in_features = load_model.roi_heads.box_predictor.cls_score.in_features\n",
    "load_model.roi_heads.box_predictor = FastRCNNPredictor(in_features, num_classes)\n",
    "load_model_pth = f'{data_path}/save_model/model_epoch1.pth'\n",
    "load_model.load_state_dict(torch.load(load_model_pth))\n",
    "load_model.cuda()"
   ]
  },
  {
   "cell_type": "code",
   "execution_count": null,
   "metadata": {
    "id": "H-weDCH4IDzd"
   },
   "outputs": [],
   "source": [
    "dataiter = iter(data_loader_test)  # イテレータ"
   ]
  },
  {
   "cell_type": "code",
   "execution_count": null,
   "metadata": {
    "colab": {
     "base_uri": "https://localhost:8080/",
     "height": 697
    },
    "executionInfo": {
     "elapsed": 4870,
     "status": "ok",
     "timestamp": 1645796785001,
     "user": {
      "displayName": "ちゃいろハック",
      "photoUrl": "https://lh3.googleusercontent.com/a-/AOh14Gg6FK2rYCL6_4iK1K4LEzhavXtZh3g_psm9zdch=s64",
      "userId": "16475672124369431032"
     },
     "user_tz": -540
    },
    "id": "a_PmBKP5IHzY",
    "outputId": "e98a49cb-20f7-47e3-d985-ed8d455455a6"
   },
   "outputs": [],
   "source": [
    "# 1枚ずつ検出テスト\n",
    "image, target = dataiter.next()  # バッチを取り出す\n",
    "\n",
    "image = [img.cuda() for img in image]  # GPU対応\n",
    "\n",
    "load_model.eval()\n",
    "predictions = load_model(image)\n",
    "pred = predictions[0]\n",
    "\n",
    "scores = pred['scores'].cpu().tolist()\n",
    "boxes = pred['boxes'].cpu().tolist()\n",
    "labels = pred['labels'].cpu().tolist()\n",
    "names = [label_id2name[label] for label in labels]\n",
    "\n",
    "iou50_scores = []\n",
    "iou50_boxes = []\n",
    "iou50_labels = []\n",
    "iou50_names = []\n",
    "\n",
    "for i, score in enumerate(scores):\n",
    "    if score >= 0.5:\n",
    "        iou50_scores.append(score)\n",
    "        iou50_boxes.append(boxes[i])\n",
    "        iou50_labels.append(labels[i])\n",
    "        iou50_names.append(names[i])\n",
    "        print(f'{names[i]} {labels[i]} {score:.02f} {boxes[i][0]:.01f} {boxes[i][1]:.01f} {boxes[i][2]:.01f} {boxes[i][3]:.01f}')\n",
    "iou50_boxes = torch.tensor(iou50_boxes)\n",
    "\n",
    "image = (image[0]*255).to(torch.uint8).cpu()\n",
    "show_boxes(image, iou50_boxes, iou50_names)\n"
   ]
  },
  {
   "cell_type": "code",
   "execution_count": null,
   "metadata": {
    "id": "Cgv_3X2IcKBX"
   },
   "outputs": [],
   "source": [
    "# 検出結果の出力先設定\n",
    "dets_dir_path = f'{data_path}/dets_result'\n",
    "# ディレクトリを確認して作成\n",
    "if not os.path.exists(dets_dir_path):\n",
    "    os.mkdir(dets_dir_path)\n",
    "img_names = df_dict['test']['file_name'].unique()"
   ]
  },
  {
   "cell_type": "code",
   "execution_count": null,
   "metadata": {
    "colab": {
     "base_uri": "https://localhost:8080/"
    },
    "executionInfo": {
     "elapsed": 327013,
     "status": "ok",
     "timestamp": 1645789554355,
     "user": {
      "displayName": "ちゃいろハック",
      "photoUrl": "https://lh3.googleusercontent.com/a-/AOh14Gg6FK2rYCL6_4iK1K4LEzhavXtZh3g_psm9zdch=s64",
      "userId": "16475672124369431032"
     },
     "user_tz": -540
    },
    "id": "kwTy1OmMcKE1",
    "outputId": "536fb03f-212a-4db4-a225-a4fe8ab98e52"
   },
   "outputs": [],
   "source": [
    "# 検出結果をファイルに出力\n",
    "for i, (image, target) in enumerate(data_loader_test):\n",
    "\n",
    "    image = [img.cuda() for img in image]  # GPU対応\n",
    "    img_name = img_names[i]\n",
    "    # うまく読めなかった画像(ImageID)をスキップ\n",
    "    #if img_name == 'a8601676c86366e3':\n",
    "    #    continue\n",
    "    print(f'{i}: {img_name}')\n",
    "    load_model.eval()\n",
    "    predictions = load_model(image)\n",
    "    pred = predictions[0]\n",
    "\n",
    "    scores = pred['scores'].cpu().tolist()\n",
    "    boxes = pred['boxes'].cpu().tolist()\n",
    "    labels = pred['labels'].cpu().tolist()\n",
    "    names = [label_id2name[label] for label in labels]\n",
    "\n",
    "    iou50_scores = []\n",
    "    iou50_boxes = []\n",
    "    iou50_labels = []\n",
    "    iou50_names = []\n",
    "\n",
    "    img_name = img_name.split('.')[0]\n",
    "    dets_file_path = f'{dets_dir_path}/{img_name}.txt'\n",
    "    with open(dets_file_path, 'w') as f:\n",
    "        for i, score in enumerate(scores):\n",
    "            if score >= 0.5:\n",
    "                iou50_scores.append(score)\n",
    "                iou50_boxes.append(boxes[i])\n",
    "                iou50_labels.append(labels[i])\n",
    "                iou50_names.append(names[i])\n",
    "                pred_data = f'{names[i]} {score:.03f} {int(boxes[i][0])} {int(boxes[i][1])} {int(boxes[i][2])} {int(boxes[i][3])}'\n",
    "                f.write(f'{pred_data}\\n')\n",
    "                print(pred_data)"
   ]
  }
 ],
 "metadata": {
  "accelerator": "GPU",
  "colab": {
   "collapsed_sections": [],
   "machine_shape": "hm",
   "name": "01_faster_rcnn.ipynb",
   "provenance": []
  },
  "kernelspec": {
   "display_name": "Python 3 (ipykernel)",
   "language": "python",
   "name": "python3"
  },
  "language_info": {
   "codemirror_mode": {
    "name": "ipython",
    "version": 3
   },
   "file_extension": ".py",
   "mimetype": "text/x-python",
   "name": "python",
   "nbconvert_exporter": "python",
   "pygments_lexer": "ipython3",
   "version": "3.9.7"
  }
 },
 "nbformat": 4,
 "nbformat_minor": 1
}
