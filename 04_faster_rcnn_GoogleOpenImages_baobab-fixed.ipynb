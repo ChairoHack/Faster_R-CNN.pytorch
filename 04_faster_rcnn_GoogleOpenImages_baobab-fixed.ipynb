{
 "cells": [
  {
   "cell_type": "markdown",
   "metadata": {
    "id": "view-in-github"
   },
   "source": [
    "<a href=\"https://colab.research.google.com/github/yukinaga/object_detection/blob/main/section_2/01_faster_rcnn.ipynb\" target=\"_parent\"><img src=\"https://colab.research.google.com/assets/colab-badge.svg\" alt=\"Open In Colab\"/></a>"
   ]
  },
  {
   "cell_type": "markdown",
   "metadata": {
    "id": "2D34JX9Xh7qg"
   },
   "source": [
    "### annotationデータ変換"
   ]
  },
  {
   "cell_type": "code",
   "execution_count": null,
   "metadata": {
    "id": "-Hut_f1YVD5S"
   },
   "outputs": [],
   "source": [
    "import glob\n",
    "import os\n",
    "import json\n",
    "import pandas as pd\n",
    "import shutil"
   ]
  },
  {
   "cell_type": "code",
   "execution_count": null,
   "metadata": {
    "id": "4n0gu7ZwT6Lv"
   },
   "outputs": [],
   "source": [
    "base_dir = 'datasets/annotation_bbox'\n",
    "org_dir = 'datasets/annotations'\n",
    "test_ann_path  = f'{base_dir}/test-annotations-bbox.csv'\n",
    "train_ann_path = f'{base_dir}/train-annotations-bbox.csv'\n",
    "val_ann_path   = f'{base_dir}/val-annotations-bbox.csv'\n",
    "test_ann_path_org = f'{org_dir}/test-annotations-bbox.csv'\n",
    "df_test  = pd.read_csv(test_ann_path)\n",
    "df_train = pd.read_csv(train_ann_path)\n",
    "df_val   = pd.read_csv(val_ann_path)\n",
    "df_test_org = pd.read_csv(test_ann_path_org)"
   ]
  },
  {
   "cell_type": "code",
   "execution_count": null,
   "metadata": {
    "id": "6l34kq-6T6OL"
   },
   "outputs": [],
   "source": [
    "label_dict = {\n",
    "    \"/m/01g317\": \"person\",\n",
    "    \"/m/0k4j\"  : \"car\",\n",
    "    \"/m/0c9ph5\": \"flower\",\n",
    "    \"/m/0bt9lr\": \"dog\",\n",
    "    \"/m/0cgh4\" : \"building\"\n",
    "}"
   ]
  },
  {
   "cell_type": "code",
   "execution_count": null,
   "metadata": {
    "id": "S_3psrG5T6Qx"
   },
   "outputs": [],
   "source": [
    "for key, value in label_dict.items():\n",
    "    df_test  = df_test.replace(key, value)\n",
    "    df_train = df_train.replace(key, value)\n",
    "    df_val   = df_val.replace(key, value)\n",
    "    df_test_org = df_test_org.replace(key, value)"
   ]
  },
  {
   "cell_type": "code",
   "execution_count": null,
   "metadata": {
    "colab": {
     "base_uri": "https://localhost:8080/",
     "height": 206
    },
    "executionInfo": {
     "elapsed": 4,
     "status": "ok",
     "timestamp": 1645788988684,
     "user": {
      "displayName": "ちゃいろハック",
      "photoUrl": "https://lh3.googleusercontent.com/a-/AOh14Gg6FK2rYCL6_4iK1K4LEzhavXtZh3g_psm9zdch=s64",
      "userId": "16475672124369431032"
     },
     "user_tz": -540
    },
    "id": "QW-1zgR1T6T5",
    "outputId": "09e3775d-6b75-42ba-ecdc-a8c9c1757578"
   },
   "outputs": [],
   "source": [
    "label_dict4df = {\n",
    "    \"building\": 1,\n",
    "    \"car\": 2,\n",
    "    \"person\": 3,\n",
    "    \"flower\": 4,\n",
    "    \"dog\": 5\n",
    "}\n",
    "df_label = pd.DataFrame(label_dict4df.items(), columns=['LabelName', 'CategoryID'])\n",
    "df_label"
   ]
  },
  {
   "cell_type": "code",
   "execution_count": null,
   "metadata": {
    "id": "cM3rdolWWgN-"
   },
   "outputs": [],
   "source": [
    "open_images_dir = 'datasets/open_images_baobab'\n",
    "dataset_kinds = ['test', 'train', 'val']"
   ]
  },
  {
   "cell_type": "code",
   "execution_count": null,
   "metadata": {
    "id": "KiSOQc-cWgtN"
   },
   "outputs": [],
   "source": [
    "# データセット（画像）の元の置き場所のパスをdict型で保存\n",
    "dataset_path = {}\n",
    "for dataset_kind in dataset_kinds:\n",
    "    dataset_path[dataset_kind] = f'{open_images_dir}/all/{dataset_kind}'"
   ]
  },
  {
   "cell_type": "markdown",
   "metadata": {
    "id": "qQLFecDtDCv-"
   },
   "source": [
    "### 画像をallに移動"
   ]
  },
  {
   "cell_type": "code",
   "execution_count": null,
   "metadata": {
    "id": "lffMDqKWDG4x"
   },
   "outputs": [],
   "source": [
    "# open_imagesのまとめディレクトリallを作成\n",
    "all_dir_path = f'{open_images_dir}/all'\n",
    "if not os.path.isdir(all_dir_path):\n",
    "    os.mkdir(all_dir_path)\n",
    "for dataset_kind in dataset_kinds:\n",
    "    kind_dir_path = f'{all_dir_path}/{dataset_kind}'\n",
    "    if not os.path.isdir(kind_dir_path):\n",
    "        os.mkdir(kind_dir_path)"
   ]
  },
  {
   "cell_type": "code",
   "execution_count": null,
   "metadata": {
    "id": "do7E9EuaDH4x"
   },
   "outputs": [],
   "source": [
    "# open_imagesの中で各カテゴリからallへまとめる\n",
    "for value in label_dict.values():\n",
    "    for dataset_kind in dataset_kinds:\n",
    "        tar_dir = f'{open_images_dir}/{value}/{dataset_kind}/image'\n",
    "        files = glob.glob(f'{tar_dir}/*.jpg')\n",
    "        for file in files:\n",
    "            shutil.copy(file, f'{open_images_dir}/all/{dataset_kind}')"
   ]
  },
  {
   "cell_type": "code",
   "execution_count": null,
   "metadata": {
    "colab": {
     "base_uri": "https://localhost:8080/"
    },
    "executionInfo": {
     "elapsed": 8,
     "status": "ok",
     "timestamp": 1645789000747,
     "user": {
      "displayName": "ちゃいろハック",
      "photoUrl": "https://lh3.googleusercontent.com/a-/AOh14Gg6FK2rYCL6_4iK1K4LEzhavXtZh3g_psm9zdch=s64",
      "userId": "16475672124369431032"
     },
     "user_tz": -540
    },
    "id": "TWNhQULbYKFK",
    "outputId": "745b9764-60ab-4993-b93b-c497728ef315"
   },
   "outputs": [],
   "source": [
    "print(len(glob.glob(f'{all_dir_path}/test/*.jpg')))\n",
    "print(len(glob.glob(f'{all_dir_path}/train/*.jpg')))\n",
    "print(len(glob.glob(f'{all_dir_path}/val/*.jpg')))"
   ]
  },
  {
   "cell_type": "markdown",
   "metadata": {
    "id": "eJYwAVHGDeXT"
   },
   "source": [
    "### GoogleOpenImagesのアノテーションデータからFaster R-CNN用のアノテーションデータに変換"
   ]
  },
  {
   "cell_type": "code",
   "execution_count": null,
   "metadata": {
    "id": "UOx8dPmUWg44"
   },
   "outputs": [],
   "source": [
    "# DataFrameにCategoryIDを追加\n",
    "df_test  = pd.merge(df_test, df_label, on='LabelName').sort_values('ImageID')\n",
    "df_train = pd.merge(df_train, df_label, on='LabelName').sort_values('ImageID')\n",
    "df_val   = pd.merge(df_val, df_label, on='LabelName').sort_values('ImageID')\n",
    "df_test_org = pd.merge(df_test_org, df_label, on='LabelName').sort_values('ImageID')\n",
    "\n",
    "df_test  = df_test.sort_values('ImageID').reset_index(drop=True)\n",
    "df_train = df_train.sort_values('ImageID').reset_index(drop=True)\n",
    "df_val   = df_val.sort_values('ImageID').reset_index(drop=True)\n",
    "df_test_org = df_test_org.sort_values('ImageID').reset_index(drop=True)"
   ]
  },
  {
   "cell_type": "code",
   "execution_count": null,
   "metadata": {
    "colab": {
     "base_uri": "https://localhost:8080/"
    },
    "executionInfo": {
     "elapsed": 13,
     "status": "ok",
     "timestamp": 1645789001810,
     "user": {
      "displayName": "ちゃいろハック",
      "photoUrl": "https://lh3.googleusercontent.com/a-/AOh14Gg6FK2rYCL6_4iK1K4LEzhavXtZh3g_psm9zdch=s64",
      "userId": "16475672124369431032"
     },
     "user_tz": -540
    },
    "id": "wAjQ1yN2Wg8G",
    "outputId": "14fa31fd-d206-4df6-ec76-c9e40ac1db8b"
   },
   "outputs": [],
   "source": [
    "# DataFrameごとの画像枚数を表示\n",
    "print(len(df_test['ImageID'].unique()))\n",
    "print(len(df_train['ImageID'].unique()))\n",
    "print(len(df_val['ImageID'].unique()))\n",
    "print(len(df_test_org['ImageID'].unique()))"
   ]
  },
  {
   "cell_type": "code",
   "execution_count": null,
   "metadata": {
    "id": "f4vfj_iyWg-5"
   },
   "outputs": [],
   "source": [
    "# DataFrameをdict型に保存\n",
    "df_dict = {\n",
    "    'test' : df_test,\n",
    "    'train': df_train,\n",
    "    'val'  : df_val,\n",
    "    'test_org': df_test_org\n",
    "}"
   ]
  },
  {
   "cell_type": "code",
   "execution_count": null,
   "metadata": {
    "colab": {
     "base_uri": "https://localhost:8080/"
    },
    "executionInfo": {
     "elapsed": 15,
     "status": "ok",
     "timestamp": 1645789001813,
     "user": {
      "displayName": "ちゃいろハック",
      "photoUrl": "https://lh3.googleusercontent.com/a-/AOh14Gg6FK2rYCL6_4iK1K4LEzhavXtZh3g_psm9zdch=s64",
      "userId": "16475672124369431032"
     },
     "user_tz": -540
    },
    "id": "LXRn1YBLCId-",
    "outputId": "584af733-6f55-486d-d119-3e79220979f1"
   },
   "outputs": [],
   "source": [
    "# 指定拡張子のファイル名取得\n",
    "def glob_file_names(dir_path, ext):\n",
    "    files = glob.glob(f'{dir_path}/*.{ext}')\n",
    "    files = [file.replace('\\\\', '/') for file in files]\n",
    "    return files"
   ]
  },
  {
   "cell_type": "code",
   "execution_count": null,
   "metadata": {
    "colab": {
     "base_uri": "https://localhost:8080/"
    },
    "executionInfo": {
     "elapsed": 14,
     "status": "ok",
     "timestamp": 1645789001814,
     "user": {
      "displayName": "ちゃいろハック",
      "photoUrl": "https://lh3.googleusercontent.com/a-/AOh14Gg6FK2rYCL6_4iK1K4LEzhavXtZh3g_psm9zdch=s64",
      "userId": "16475672124369431032"
     },
     "user_tz": -540
    },
    "id": "qmf9B9t4WhBn",
    "outputId": "0e774ba5-68eb-4e14-8805-be17c1f7d2fd"
   },
   "outputs": [],
   "source": [
    "# 画像のパスをdict型で取得しつつ、画像枚数を調べる\n",
    "files_dict = {}\n",
    "for dataset_kind in dataset_kinds:\n",
    "    files_dict[dataset_kind] = glob_file_names(f'{dataset_path[dataset_kind]}', 'jpg')\n",
    "for kind, files in files_dict.items():\n",
    "    print(f'{kind}:\\t{len(files)}')\n",
    "files_dict['test_org'] = glob_file_names(f'{dataset_path[\"test\"]}', 'jpg')\n",
    "print(f'test_org: {len(files_dict[\"test_org\"])}')"
   ]
  },
  {
   "cell_type": "code",
   "execution_count": null,
   "metadata": {
    "id": "wW6pVkAQYoDq"
   },
   "outputs": [],
   "source": [
    "from PIL import Image"
   ]
  },
  {
   "cell_type": "code",
   "execution_count": null,
   "metadata": {
    "colab": {
     "base_uri": "https://localhost:8080/",
     "height": 488
    },
    "executionInfo": {
     "elapsed": 883,
     "status": "ok",
     "timestamp": 1645789007895,
     "user": {
      "displayName": "ちゃいろハック",
      "photoUrl": "https://lh3.googleusercontent.com/a-/AOh14Gg6FK2rYCL6_4iK1K4LEzhavXtZh3g_psm9zdch=s64",
      "userId": "16475672124369431032"
     },
     "user_tz": -540
    },
    "id": "cG6ja0hnYoF9",
    "outputId": "5e3400ff-325e-49b9-b1ae-cdb9964d017b"
   },
   "outputs": [],
   "source": [
    "# 画像のサイズ情報をデータフレームに追加する\n",
    "for dataset_kind, files in files_dict.items():\n",
    "    img_size_list = []\n",
    "    for file in files:\n",
    "        img = Image.open(file)\n",
    "        image_id = file.split('/')[-1].split('.')[0]\n",
    "        img_size = [f'{image_id}', img.size[0], img.size[1]]\n",
    "        img_size_list.append(img_size)\n",
    "    df_size = pd.DataFrame(img_size_list, columns=['ImageID', 'Width', 'Height'])\n",
    "    df_dict[dataset_kind] = pd.merge(df_dict[dataset_kind], df_size, on='ImageID')\n",
    "    df_dict[dataset_kind]  = df_dict[dataset_kind].sort_values('ImageID').reset_index(drop=True)\n",
    "    \n",
    "df_dict[dataset_kind]"
   ]
  },
  {
   "cell_type": "markdown",
   "metadata": {
    "id": "B9RZNL5kY93L"
   },
   "source": [
    "### カスタムデータセットを作成"
   ]
  },
  {
   "cell_type": "code",
   "execution_count": null,
   "metadata": {
    "id": "mgfua9EHGiBA"
   },
   "outputs": [],
   "source": [
    "import torch\n",
    "from torch.utils.data import DataLoader\n",
    "\n",
    "import torchvision\n",
    "import torchvision.transforms as transforms\n",
    "from torchvision.utils import draw_bounding_boxes\n",
    "from torchvision.models.detection.faster_rcnn import FastRCNNPredictor\n",
    "\n",
    "import numpy as np\n",
    "import matplotlib.pyplot as plt"
   ]
  },
  {
   "cell_type": "code",
   "execution_count": null,
   "metadata": {
    "id": "wOgutqMOZaTQ"
   },
   "outputs": [],
   "source": [
    "# カスタムデータセットに与えるデータを作成するクラス\n",
    "class GoogleOpenImagesDataset(torch.utils.data.Dataset):\n",
    "    \n",
    "    def __init__(self, df, image_dir, transform=None):\n",
    "        super().__init__()\n",
    "        self.image_ids = df['ImageID'].unique()\n",
    "        self.df = df\n",
    "        self.image_dir = image_dir\n",
    "        self.transform = transform\n",
    "        \n",
    "    def __getitem__(self, index):\n",
    "        if self.transform is None:\n",
    "            self.transform = transforms.Compose([\n",
    "                transforms.ToTensor()\n",
    "            ])\n",
    "\n",
    "        # 入力画像の読み込み\n",
    "        image_id = self.image_ids[index]\n",
    "        image = Image.open(f'{self.image_dir}/{image_id}.jpg')\n",
    "        image = self.transform(image)\n",
    "        \n",
    "        # アノテーションデータの読み込み\n",
    "        df_unique_id = self.df[self.df['ImageID'] == image_id]\n",
    "        width = df_unique_id['Width'].unique()[0]\n",
    "        height = df_unique_id['Height'].unique()[0]\n",
    "        boxes_arr = df_unique_id[['XMin', 'YMin', 'XMax', 'YMax']].values\n",
    "        boxes_arr[:, 0] = boxes_arr[:, 0] * width\n",
    "        boxes_arr[:, 1] = boxes_arr[:, 1] * height\n",
    "        boxes_arr[:, 2] = boxes_arr[:, 2] * width\n",
    "        boxes_arr[:, 3] = boxes_arr[:, 3] * height\n",
    "        boxes = torch.tensor(boxes_arr, dtype=torch.int64)\n",
    "        for box in boxes:\n",
    "            box[2] = box[2] + 1 if (box[2] - box[0]) == 0 else box[2]\n",
    "            box[3] = box[3] + 1 if (box[3] - box[1]) == 0 else box[3]\n",
    "        labels = torch.tensor(df_unique_id['CategoryID'].values, dtype=torch.int64)\n",
    "        target = {}\n",
    "        target['boxes'] = boxes\n",
    "        target['labels']= labels\n",
    "        \n",
    "        return image, target\n",
    "    \n",
    "    def __len__(self):\n",
    "        return self.image_ids.shape[0]"
   ]
  },
  {
   "cell_type": "markdown",
   "metadata": {
    "id": "RGMFWBXzjyhx"
   },
   "source": [
    "### データセットの読み込み"
   ]
  },
  {
   "cell_type": "code",
   "execution_count": null,
   "metadata": {
    "id": "_IBIwqzyGUGI"
   },
   "outputs": [],
   "source": [
    "dataset_train = GoogleOpenImagesDataset(df_dict['train'], dataset_path['train'])\n",
    "dataset_val = GoogleOpenImagesDataset(df_dict['val'], dataset_path['val'])\n",
    "dataset_test = GoogleOpenImagesDataset(df_dict['test'], dataset_path['test'])\n",
    "dataset_test_org = GoogleOpenImagesDataset(df_dict['test_org'], dataset_path['test'])"
   ]
  },
  {
   "cell_type": "markdown",
   "metadata": {
    "id": "i2BYtIG6km6t"
   },
   "source": [
    "### DataLoaderの設定"
   ]
  },
  {
   "cell_type": "code",
   "execution_count": null,
   "metadata": {
    "id": "IDzquvf4OvCW"
   },
   "outputs": [],
   "source": [
    "data_loader_train =  DataLoader(dataset_train, batch_size=1, shuffle=True)\n",
    "data_loader_val =  DataLoader(dataset_val, batch_size=1, shuffle=False)\n",
    "data_loader_test =  DataLoader(dataset_test, batch_size=1, shuffle=False)\n",
    "data_loader_test_org =  DataLoader(dataset_test_org, batch_size=1, shuffle=False)"
   ]
  },
  {
   "cell_type": "markdown",
   "metadata": {
    "id": "YUEoolAmlENX"
   },
   "source": [
    "### ターゲットの表示"
   ]
  },
  {
   "cell_type": "code",
   "execution_count": null,
   "metadata": {
    "id": "3sPXJE2fFpwd"
   },
   "outputs": [],
   "source": [
    "def show_boxes(image, boxes, names):\n",
    "    drawn_boxes = draw_bounding_boxes(image, boxes, labels=names)\n",
    "\n",
    "    plt.figure(figsize = (16,16))\n",
    "    plt.imshow(np.transpose(drawn_boxes, (1, 2, 0)))  # チャンネルを一番後ろに\n",
    "    plt.tick_params(labelbottom=False, labelleft=False, bottom=False, left=False)  # ラベルとメモリを非表示に\n",
    "    plt.show()"
   ]
  },
  {
   "cell_type": "code",
   "execution_count": null,
   "metadata": {
    "id": "FmNLpfj80nSC"
   },
   "outputs": [],
   "source": [
    "dataiter = iter(data_loader_test)  # イテレータ"
   ]
  },
  {
   "cell_type": "code",
   "execution_count": null,
   "metadata": {
    "colab": {
     "base_uri": "https://localhost:8080/",
     "height": 630
    },
    "executionInfo": {
     "elapsed": 4239,
     "status": "ok",
     "timestamp": 1645791968185,
     "user": {
      "displayName": "ちゃいろハック",
      "photoUrl": "https://lh3.googleusercontent.com/a-/AOh14Gg6FK2rYCL6_4iK1K4LEzhavXtZh3g_psm9zdch=s64",
      "userId": "16475672124369431032"
     },
     "user_tz": -540
    },
    "id": "T1DgPPCeTv8g",
    "outputId": "1e4e37df-c65d-47dc-dc51-2704f2f16c49"
   },
   "outputs": [],
   "source": [
    "#dataiter = iter(data_loader_test)  # イテレータ\n",
    "image, target = dataiter.next()  # バッチを取り出す\n",
    "print(target)\n",
    "\n",
    "image = image[0]\n",
    "image = (image*255).to(torch.uint8)  # draw_bounding_boxes関数の入力は0-255\n",
    "\n",
    "boxes = target[\"boxes\"][0]\n",
    "\n",
    "labels = target[\"labels\"][0]\n",
    "names = [df_label['LabelName'][label.item()] for label in labels]\n",
    "\n",
    "show_boxes(image, boxes, names)"
   ]
  },
  {
   "cell_type": "markdown",
   "metadata": {
    "id": "I2sQVsxKD0F_"
   },
   "source": [
    "### モデルの構築"
   ]
  },
  {
   "cell_type": "code",
   "execution_count": null,
   "metadata": {
    "colab": {
     "base_uri": "https://localhost:8080/"
    },
    "executionInfo": {
     "elapsed": 996,
     "status": "ok",
     "timestamp": 1645798257813,
     "user": {
      "displayName": "ちゃいろハック",
      "photoUrl": "https://lh3.googleusercontent.com/a-/AOh14Gg6FK2rYCL6_4iK1K4LEzhavXtZh3g_psm9zdch=s64",
      "userId": "16475672124369431032"
     },
     "user_tz": -540
    },
    "id": "CeBmxDtBD5in",
    "outputId": "d11e2e38-3103-4fb3-d1a7-3cde077a4ab1"
   },
   "outputs": [],
   "source": [
    "model = torchvision.models.detection.fasterrcnn_resnet50_fpn(pretrained=True)\n",
    "num_classes=len(df_label)+1  # 背景も含めて分類するため1を加える\n",
    "in_features = model.roi_heads.box_predictor.cls_score.in_features\n",
    "model.roi_heads.box_predictor = FastRCNNPredictor(in_features, num_classes)\n",
    "model.cuda()  # GPU対応"
   ]
  },
  {
   "cell_type": "markdown",
   "metadata": {
    "id": "zlg2kyRIlru5"
   },
   "source": [
    "### 学習"
   ]
  },
  {
   "cell_type": "code",
   "execution_count": null,
   "metadata": {
    "colab": {
     "base_uri": "https://localhost:8080/",
     "height": 500
    },
    "executionInfo": {
     "elapsed": 242540,
     "status": "error",
     "timestamp": 1645798503997,
     "user": {
      "displayName": "ちゃいろハック",
      "photoUrl": "https://lh3.googleusercontent.com/a-/AOh14Gg6FK2rYCL6_4iK1K4LEzhavXtZh3g_psm9zdch=s64",
      "userId": "16475672124369431032"
     },
     "user_tz": -540
    },
    "id": "g1ZfJVNn7nKt",
    "outputId": "dd3cde37-b687-4d8c-8bbe-79c3e8f8d74a"
   },
   "outputs": [],
   "source": [
    "# モデルの保存場所の設定\n",
    "data_path = 'save_model'\n",
    "# ディレクトリを確認して作成\n",
    "_dir_path = f'{data_path}'\n",
    "if not os.path.exists(_dir_path):\n",
    "    os.mkdir(_dir_path)\n",
    "epoch_loss_path = f'{data_path}/losses_every_epoch.txt'\n",
    "iter_loss_path = f'{data_path}/losses_every_iteration.txt'"
   ]
  },
  {
   "cell_type": "code",
   "execution_count": null,
   "metadata": {
    "colab": {
     "base_uri": "https://localhost:8080/",
     "height": 500
    },
    "executionInfo": {
     "elapsed": 242540,
     "status": "error",
     "timestamp": 1645798503997,
     "user": {
      "displayName": "ちゃいろハック",
      "photoUrl": "https://lh3.googleusercontent.com/a-/AOh14Gg6FK2rYCL6_4iK1K4LEzhavXtZh3g_psm9zdch=s64",
      "userId": "16475672124369431032"
     },
     "user_tz": -540
    },
    "id": "g1ZfJVNn7nKt",
    "outputId": "dd3cde37-b687-4d8c-8bbe-79c3e8f8d74a"
   },
   "outputs": [],
   "source": [
    "# 最適化アルゴリズム\n",
    "params = [p for p in model.parameters() if p.requires_grad]\n",
    "optimizer = torch.optim.SGD(params, lr=0.001, momentum=0.9, weight_decay=0.0005)\n",
    "\n",
    "loss_list = []\n",
    "val_loss_list = []\n",
    "model.train()  # 訓練モード\n",
    "epochs = 100\n",
    "for epoch in range(epochs):\n",
    "    # train\n",
    "    losses = []\n",
    "    for i, (image, target) in enumerate(data_loader_train):\n",
    "        image = [img.cuda() for img in image]  # GPU対応\n",
    "\n",
    "        boxes = target[\"boxes\"][0].cuda()\n",
    "        labels = target[\"labels\"][0].cuda()\n",
    "        target = [{\"boxes\":boxes, \"labels\":labels}]  # ターゲットは辞書を要素に持つリスト\n",
    "\n",
    "        loss_dic = model(image, target)\n",
    "        loss = sum(loss for loss in loss_dic.values())  # 誤差の合計を計算\n",
    "\n",
    "        optimizer.zero_grad()\n",
    "        loss.backward()\n",
    "        optimizer.step()\n",
    "\n",
    "        losses.append(loss.item())\n",
    "\n",
    "        if (i+1)%100 == 0:  # 100回ごとに経過を表示\n",
    "            print(\"Train epoch:\", epoch,  \"iteration:\", i,  \"loss:\", loss.item())\n",
    "    \n",
    "    # 10epochごとにmodelを保存\n",
    "    (epoch+1)%10 == 0:\n",
    "        torch.save(model.state_dict(), model_path)\n",
    "        loss_list.append(np.mean(losses))\n",
    "\n",
    "    # validation\n",
    "    val_losses =  []\n",
    "    for i, (val_image, val_target) in enumerate(data_loader_val):\n",
    "        val_image = [img.cuda() for img in val_image]  # GPU対応\n",
    "\n",
    "        val_boxes = val_target[\"boxes\"][0].cuda()\n",
    "        val_labels = val_target[\"labels\"][0].cuda()\n",
    "        val_target = [{\"boxes\":val_boxes, \"labels\":val_labels}]  # ターゲットは辞書を要素に持つリスト\n",
    "\n",
    "        val_loss_dic = model(val_image, val_target)\n",
    "        val_loss = sum(val_loss for val_loss in val_loss_dic.values()) # 誤差の合計を計算\n",
    "\n",
    "        val_losses.append(val_loss.item())\n",
    "\n",
    "        if (i+1)%100 == 0:  # 100回ごとに経過を表示\n",
    "            print(\"Val epoch:\", epoch,  \"iteration:\", i,  \"loss:\", val_loss.item())\n",
    "    \n",
    "    val_loss_list.append(np.mean(val_losses))\n",
    "\n",
    "    with open(loss_path, 'w') as f:\n",
    "        for i, loss in enumerate(loss_list):\n",
    "            f.write(f'{i} train_loss: {loss} val_loss: {val_loss_list[i]}/n')"
   ]
  },
  {
   "cell_type": "markdown",
   "metadata": {
    "id": "CWbmJlezyqIU"
   },
   "source": [
    "### 検出"
   ]
  },
  {
   "cell_type": "code",
   "execution_count": null,
   "metadata": {
    "id": "PjJrJEhE4Qxs"
   },
   "outputs": [],
   "source": [
    "load_model = torchvision.models.detection.fasterrcnn_resnet50_fpn(pretrained=True)\n",
    "num_classes=len(df_label)+1  # 背景も含めて分類するため1を加える\n",
    "in_features = load_model.roi_heads.box_predictor.cls_score.in_features\n",
    "load_model.roi_heads.box_predictor = FastRCNNPredictor(in_features, num_classes)\n",
    "load_model_pth = f'{data_path}/model_epoch100.pth'\n",
    "load_model.load_state_dict(torch.load(load_model_pth))\n",
    "load_model.cuda()"
   ]
  },
  {
   "cell_type": "code",
   "execution_count": null,
   "metadata": {
    "id": "H-weDCH4IDzd"
   },
   "outputs": [],
   "source": [
    "dataiter = iter(data_loader_test)  # イテレータ"
   ]
  },
  {
   "cell_type": "code",
   "execution_count": null,
   "metadata": {
    "colab": {
     "base_uri": "https://localhost:8080/",
     "height": 697
    },
    "executionInfo": {
     "elapsed": 4870,
     "status": "ok",
     "timestamp": 1645796785001,
     "user": {
      "displayName": "ちゃいろハック",
      "photoUrl": "https://lh3.googleusercontent.com/a-/AOh14Gg6FK2rYCL6_4iK1K4LEzhavXtZh3g_psm9zdch=s64",
      "userId": "16475672124369431032"
     },
     "user_tz": -540
    },
    "id": "a_PmBKP5IHzY",
    "outputId": "e98a49cb-20f7-47e3-d985-ed8d455455a6"
   },
   "outputs": [],
   "source": [
    "# 1枚ずつ検出テスト\n",
    "image, target = dataiter.next()  # バッチを取り出す\n",
    "\n",
    "image = [img.cuda() for img in image]  # GPU対応\n",
    "\n",
    "load_model.eval()\n",
    "predictions = load_model(image)\n",
    "pred = predictions[0]\n",
    "\n",
    "scores = pred['scores'].cpu().tolist()\n",
    "boxes = pred['boxes'].cpu().tolist()\n",
    "labels = pred['labels'].cpu().tolist()\n",
    "names = [df_label['LabelName'][label] for label in labels]\n",
    "\n",
    "iou50_scores = []\n",
    "iou50_boxes = []\n",
    "iou50_labels = []\n",
    "iou50_names = []\n",
    "\n",
    "for i, score in enumerate(scores):\n",
    "    if score >= 0.5:\n",
    "        iou50_scores.append(score)\n",
    "        iou50_boxes.append(boxes[i])\n",
    "        iou50_labels.append(labels[i])\n",
    "        iou50_names.append(names[i])\n",
    "        print(f'{names[i]} {labels[i]} {score:.02f} {boxes[i][0]:.01f} {boxes[i][1]:.01f} {boxes[i][2]:.01f} {boxes[i][3]:.01f}')\n",
    "iou50_boxes = torch.tensor(iou50_boxes)\n",
    "\n",
    "image = (image[0]*255).to(torch.uint8).cpu()\n",
    "show_boxes(image, iou50_boxes, iou50_names)\n"
   ]
  },
  {
   "cell_type": "code",
   "execution_count": null,
   "metadata": {
    "id": "Cgv_3X2IcKBX"
   },
   "outputs": [],
   "source": [
    "# 検出結果の出力先設定\n",
    "dets_dir_path = f'{data_path}/dets_result'\n",
    "# ディレクトリを確認して作成\n",
    "if not os.path.exists(dets_dir_path):\n",
    "    os.mkdir(dets_dir_path)\n",
    "img_names = df_test['ImageID'].unique()"
   ]
  },
  {
   "cell_type": "code",
   "execution_count": null,
   "metadata": {
    "colab": {
     "base_uri": "https://localhost:8080/"
    },
    "executionInfo": {
     "elapsed": 327013,
     "status": "ok",
     "timestamp": 1645789554355,
     "user": {
      "displayName": "ちゃいろハック",
      "photoUrl": "https://lh3.googleusercontent.com/a-/AOh14Gg6FK2rYCL6_4iK1K4LEzhavXtZh3g_psm9zdch=s64",
      "userId": "16475672124369431032"
     },
     "user_tz": -540
    },
    "id": "kwTy1OmMcKE1",
    "outputId": "536fb03f-212a-4db4-a225-a4fe8ab98e52"
   },
   "outputs": [],
   "source": [
    "# 検出結果をファイルに出力\n",
    "for i, (image, target) in enumerate(data_loader_test_org):\n",
    "\n",
    "    image = [img.cuda() for img in image]  # GPU対応\n",
    "    img_name = img_names[i]\n",
    "    # うまく読めなかった画像(ImageID)をスキップ\n",
    "    if img_name == 'a8601676c86366e3':\n",
    "        continue\n",
    "    print(f'{i}: {img_name}')\n",
    "    test_model.eval()\n",
    "    predictions = test_model(image)\n",
    "    pred = predictions[0]\n",
    "\n",
    "    scores = pred['scores'].cpu().tolist()\n",
    "    boxes = pred['boxes'].cpu().tolist()\n",
    "    labels = pred['labels'].cpu().tolist()\n",
    "    names = [df_label['LabelName'][label] for label in labels]\n",
    "\n",
    "    iou50_scores = []\n",
    "    iou50_boxes = []\n",
    "    iou50_labels = []\n",
    "    iou50_names = []\n",
    "\n",
    "    dets_file_path = f'{dets_dir_path}/{img_name}.txt'\n",
    "    with open(dets_file_path, 'w') as f:\n",
    "        for i, score in enumerate(scores):\n",
    "            if score >= 0.5:\n",
    "                iou50_scores.append(score)\n",
    "                iou50_boxes.append(boxes[i])\n",
    "                iou50_labels.append(labels[i])\n",
    "                iou50_names.append(names[i])\n",
    "                pred_data = f'{names[i]} {score:.03f} {int(boxes[i][0])} {int(boxes[i][1])} {int(boxes[i][2])} {int(boxes[i][3])}'\n",
    "                f.write(f'{pred_data}\\n')\n",
    "                print(pred_data)"
   ]
  }
 ],
 "metadata": {
  "accelerator": "GPU",
  "colab": {
   "collapsed_sections": [],
   "machine_shape": "hm",
   "name": "01_faster_rcnn.ipynb",
   "provenance": []
  },
  "kernelspec": {
   "display_name": "Python 3 (ipykernel)",
   "language": "python",
   "name": "python3"
  },
  "language_info": {
   "codemirror_mode": {
    "name": "ipython",
    "version": 3
   },
   "file_extension": ".py",
   "mimetype": "text/x-python",
   "name": "python",
   "nbconvert_exporter": "python",
   "pygments_lexer": "ipython3",
   "version": "3.9.7"
  }
 },
 "nbformat": 4,
 "nbformat_minor": 1
}
